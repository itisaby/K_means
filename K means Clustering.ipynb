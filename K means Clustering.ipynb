{
 "cells": [
  {
   "cell_type": "code",
   "execution_count": 1,
   "id": "de5071c8",
   "metadata": {},
   "outputs": [],
   "source": [
    "import numpy as np\n",
    "import matplotlib.pyplot as plt"
   ]
  },
  {
   "cell_type": "code",
   "execution_count": 2,
   "id": "6daa4bac",
   "metadata": {},
   "outputs": [],
   "source": [
    "X = np.array([[1, 2], [1.5, 1.8], [5, 8],[8, 8], [1, 0.6], [9, 11]])"
   ]
  },
  {
   "cell_type": "code",
   "execution_count": 3,
   "id": "02c27970",
   "metadata": {},
   "outputs": [
    {
     "data": {
      "image/png": "[encoded data removed]",
      "text/plain": [
       "<Figure size 432x288 with 1 Axes>"
      ]
     },
     "metadata": {
      "needs_background": "light"
     },
     "output_type": "display_data"
    }
   ],
   "source": [
    "plt.scatter(X[:, 0], X[:, 1])\n",
    "plt.show()"
   ]
  },
  {
   "cell_type": "code",
   "execution_count": 4,
   "id": "3d385d30",
   "metadata": {},
   "outputs": [],
   "source": [
    "from sklearn.cluster import KMeans"
   ]
  },
  {
   "cell_type": "code",
   "execution_count": 6,
   "id": "0a275bfc",
   "metadata": {},
   "outputs": [],
   "source": [
    "k_means = KMeans(n_clusters = 2)"
   ]
  },
  {
   "cell_type": "code",
   "execution_count": 7,
   "id": "9ba463db",
   "metadata": {},
   "outputs": [
    {
     "data": {
      "text/plain": [
       "KMeans(n_clusters=2)"
      ]
     },
     "execution_count": 7,
     "metadata": {},
     "output_type": "execute_result"
    }
   ],
   "source": [
    "k_means.fit(X)"
   ]
  },
  {
   "cell_type": "code",
   "execution_count": 9,
   "id": "96a8e9cf",
   "metadata": {},
   "outputs": [
    {
     "data": {
      "text/plain": [
       "array([0, 0, 1, 1, 0, 1])"
      ]
     },
     "execution_count": 9,
     "metadata": {},
     "output_type": "execute_result"
    }
   ],
   "source": [
    "k_means.labels_"
   ]
  },
  {
   "cell_type": "code",
   "execution_count": 11,
   "id": "6a12bf9f",
   "metadata": {},
   "outputs": [
    {
     "data": {
      "text/plain": [
       "array([[1.16666667, 1.46666667],\n",
       "       [7.33333333, 9.        ]])"
      ]
     },
     "execution_count": 11,
     "metadata": {},
     "output_type": "execute_result"
    }
   ],
   "source": [
    "k_means.cluster_centers_"
   ]
  },
  {
   "cell_type": "code",
   "execution_count": 17,
   "id": "ee8aff27",
   "metadata": {},
   "outputs": [
    {
     "data": {
      "image/png": "[encoded data removed]",
      "text/plain": [
       "<Figure size 432x288 with 1 Axes>"
      ]
     },
     "metadata": {
      "needs_background": "light"
     },
     "output_type": "display_data"
    }
   ],
   "source": [
    "plt.scatter(X[:, 0], X[:, 1], c=k_means.labels_)\n",
    "plt.scatter(k_means.cluster_centers_[:,0], k_means.cluster_centers_[:, 1])\n",
    "plt.show()"
   ]
  },
  {
   "cell_type": "code",
   "execution_count": 32,
   "id": "832939f1",
   "metadata": {},
   "outputs": [],
   "source": [
    "def fit(data, k=2, max_iter=100):\n",
    "    means = []\n",
    "    #Randomly initialize the means\n",
    "    for i in range(k):\n",
    "        means.append(data[i])\n",
    "    for i in range(max_iter):\n",
    "        #assign the data points to the cluster they belong to \n",
    "        #create empty cluster\n",
    "        clusters = []\n",
    "        for j in range(k):\n",
    "            clusters.append([])\n",
    "        for point in data:\n",
    "            #find distance to all the mean values\n",
    "            distances=[((point-m)**2).sum() for m in means]\n",
    "            #find min distance\n",
    "            minDistance = min(distances)\n",
    "            #find the mean for which we got min distance\n",
    "            l = distances.index(minDistance)\n",
    "            #add this point to distance l\n",
    "            clusters[l].append(point)\n",
    "        \n",
    "        #calculate the new mean values\n",
    "        change = False\n",
    "        for j in range(k):\n",
    "            new_mean = np.average(clusters[j], axis=0)\n",
    "            if not np.array_equal(means[j],new_mean):\n",
    "                change = True\n",
    "            means[j] = new_mean\n",
    "        if not change:\n",
    "            break\n",
    "    return means"
   ]
  },
  {
   "cell_type": "code",
   "execution_count": 33,
   "id": "412392fa",
   "metadata": {},
   "outputs": [],
   "source": [
    "def predict(test_data, means):\n",
    "    predictions = []\n",
    "    for point in test_data:\n",
    "        #find distance to all the mean values\n",
    "        distances=[((point-m)**2).sum() for m in means]\n",
    "        #find min distance\n",
    "        minDistance = min(distances)\n",
    "        #find the mean for which we got min distance\n",
    "        l = distances.index(minDistance)\n",
    "        #add this point to cluster l\n",
    "        predictions.append(l)\n",
    "    return predictions\n",
    "                \n",
    "    "
   ]
  },
  {
   "cell_type": "code",
   "execution_count": 36,
   "id": "109e9f2f",
   "metadata": {},
   "outputs": [],
   "source": [
    "means =fit(X)"
   ]
  },
  {
   "cell_type": "code",
   "execution_count": 37,
   "id": "eb56feee",
   "metadata": {},
   "outputs": [
    {
     "data": {
      "text/plain": [
       "[0, 0, 1, 1, 0, 1]"
      ]
     },
     "execution_count": 37,
     "metadata": {},
     "output_type": "execute_result"
    }
   ],
   "source": [
    "predict(X, means)"
   ]
  },
  {
   "cell_type": "code",
   "execution_count": null,
   "id": "1ab1f202",
   "metadata": {},
   "outputs": [],
   "source": []
  }
 ],
 "metadata": {
  "kernelspec": {
   "display_name": "Python 3 (ipykernel)",
   "language": "python",
   "name": "python3"
  },
  "language_info": {
   "codemirror_mode": {
    "name": "ipython",
    "version": 3
   },
   "file_extension": ".py",
   "mimetype": "text/x-python",
   "name": "python",
   "nbconvert_exporter": "python",
   "pygments_lexer": "ipython3",
   "version": "3.9.7"
  }
 },
 "nbformat": 4,
 "nbformat_minor": 5
}
